{
  "nbformat": 4,
  "nbformat_minor": 0,
  "metadata": {
    "colab": {
      "provenance": []
    },
    "kernelspec": {
      "name": "python3",
      "display_name": "Python 3"
    },
    "language_info": {
      "name": "python"
    }
  },
  "cells": [
    {
      "cell_type": "code",
      "execution_count": 9,
      "metadata": {
        "colab": {
          "base_uri": "https://localhost:8080/"
        },
        "id": "W-GHTM2edb03",
        "outputId": "059f8eeb-3f9f-4353-ec03-07525553175e"
      },
      "outputs": [
        {
          "output_type": "stream",
          "name": "stdout",
          "text": [
            "Camino encontrado: <function resolver_laberinto at 0x7f02bc175ea0>\n"
          ]
        }
      ],
      "source": [
        "laberinto = [\n",
        "    ['P', 'p', 'p', 'p', 'p', 'p', 'p', 'p'],\n",
        "    ['p', 'p', 'p', 'p', 'p', 'p', 'p', 'p'],\n",
        "    ['p', 'p', 'p', 'p', 'p', 'p', 'p', 'p'],\n",
        "    ['p', 'p', 'p', 'p', 'p', 'p', 'p', 'p'],\n",
        "    ['p', 'p', 'p', 'p', 'p', 'p', 'p', 'p'],\n",
        "    ['p', 'p', 'p', 'p', 'p', 'p', 'p', 'p'],\n",
        "    ['p', 'p', 'c', 'c', 'c', 'c', 'c', 'p'],\n",
        "    ['p', 'p', 'c', 'p', 'p', 'p', 'c', 'p'],\n",
        "    ['p', 'p', 'c', 'c', 'c', 'p', 'c', 'p'],\n",
        "    ['p', 'p', 'p', 'p', 'c', 'p', 'c', 'S'],\n",
        "    ['p', 'p', 'X', 'p', 'c', 'p', 'p', 'p'],\n",
        "    ['p', 'X', 'c', 'c', 'c', 'c', 'p', 'p'],\n",
        "    ['p', 'p', 'c', 'p', 'p', 'p', 'p', 'p'],\n",
        "    ['p', 'p', 'E', 'p', 'p', 'p', 'p', 'p']\n",
        "]\n",
        "\n",
        "# Definimos las coordenadas de la entrada y la salida\n",
        "entrada = (2, 13)  # posición de 'E'\n",
        "salida = (7, 9)    # posición de 'S'\n",
        "\n",
        "# Pila para almacenar el camino\n",
        "pila = []\n",
        "pila.append(entrada)\n",
        "\n",
        "# Movimientos posibles: izquierda, arriba, derecha, abajo\n",
        "movimientos = [(-1, 0), (0, -1), (1, 0), (0, 1)]\n",
        "\n",
        "def resolver_laberinto(laberinto, entrada, salida):\n",
        "    while pila:\n",
        "        x, y = pila[-1]\n",
        "\n",
        "        # Marcamos el camino como visitado\n",
        "        laberinto[x][y] = 'X'\n",
        "\n",
        "        # Revisamos si hemos llegado a la salida\n",
        "        if (x, y) == salida:\n",
        "            return pila  # Retorna el camino completo\n",
        "\n",
        "        # Intentamos con cada dirección\n",
        "        for dx, dy in movimientos:\n",
        "            nx, ny = x + dx, y + dy\n",
        "\n",
        "            # Verificamos si la posición es válida\n",
        "            if 0 <= nx < len(laberinto) and 0 <= ny < len(laberinto[0]) and laberinto[nx][ny] == 'c':\n",
        "                pila.append((nx, ny))\n",
        "                break\n",
        "        else:\n",
        "            # Si no encontramos un camino, hacemos pop (backtracking)\n",
        "            pila.pop()\n",
        "\n",
        "    return None\n",
        "\n",
        "# Ejecutamos la función y mostramos el camino si existe\n",
        "camino = resolver_laberinto\n",
        "if camino:\n",
        "    print(\"Camino encontrado:\", camino)\n",
        "else:\n",
        "    print(\"No hay solución para el laberinto.\")"
      ]
    }
  ]
}